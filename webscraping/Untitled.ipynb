{
 "cells": [
  {
   "cell_type": "code",
   "execution_count": 1,
   "id": "9b13f28b",
   "metadata": {},
   "outputs": [],
   "source": [
    "# Importando as bibliotecas\n",
    "import pandas as pd\n",
    "import requests\n",
    "from bs4 import BeautifulSoup"
   ]
  },
  {
   "cell_type": "code",
   "execution_count": 2,
   "id": "f0f94dcc",
   "metadata": {},
   "outputs": [
    {
     "name": "stdout",
     "output_type": "stream",
     "text": [
      "Requisição bem sucedida!\n"
     ]
    }
   ],
   "source": [
    "req = requests.get('https://www.basketball-reference.com/leagues/NBA_2018_totals.html')\n",
    "\n",
    "if req.status_code == 200:\n",
    "  print('Requisição bem sucedida!')\n",
    "  content = req.content"
   ]
  },
  {
   "cell_type": "code",
   "execution_count": 3,
   "id": "8fbc8d12",
   "metadata": {},
   "outputs": [],
   "source": [
    "# Extraindo a tabela de dados\n",
    "soup = BeautifulSoup(content, 'html.parser')\n",
    "table = soup.find(name='table')"
   ]
  },
  {
   "cell_type": "code",
   "execution_count": 4,
   "id": "1853b21e",
   "metadata": {},
   "outputs": [
    {
     "data": {
      "text/plain": [
       "bs4.element.Tag"
      ]
     },
     "execution_count": 4,
     "metadata": {},
     "output_type": "execute_result"
    }
   ],
   "source": [
    "type(table)"
   ]
  },
  {
   "cell_type": "code",
   "execution_count": 5,
   "id": "31af6187",
   "metadata": {},
   "outputs": [],
   "source": [
    "# Convertendo a tabela para um Data Frame\n",
    "table_str = str(table)\n",
    "df = pd.read_html(table_str)[0]"
   ]
  },
  {
   "cell_type": "code",
   "execution_count": 6,
   "id": "fc807bcd",
   "metadata": {},
   "outputs": [
    {
     "data": {
      "text/html": [
       "<div>\n",
       "<style scoped>\n",
       "    .dataframe tbody tr th:only-of-type {\n",
       "        vertical-align: middle;\n",
       "    }\n",
       "\n",
       "    .dataframe tbody tr th {\n",
       "        vertical-align: top;\n",
       "    }\n",
       "\n",
       "    .dataframe thead th {\n",
       "        text-align: right;\n",
       "    }\n",
       "</style>\n",
       "<table border=\"1\" class=\"dataframe\">\n",
       "  <thead>\n",
       "    <tr style=\"text-align: right;\">\n",
       "      <th></th>\n",
       "      <th>Rk</th>\n",
       "      <th>Player</th>\n",
       "      <th>Pos</th>\n",
       "      <th>Age</th>\n",
       "      <th>Tm</th>\n",
       "      <th>G</th>\n",
       "      <th>GS</th>\n",
       "      <th>MP</th>\n",
       "      <th>FG</th>\n",
       "      <th>FGA</th>\n",
       "      <th>...</th>\n",
       "      <th>FT%</th>\n",
       "      <th>ORB</th>\n",
       "      <th>DRB</th>\n",
       "      <th>TRB</th>\n",
       "      <th>AST</th>\n",
       "      <th>STL</th>\n",
       "      <th>BLK</th>\n",
       "      <th>TOV</th>\n",
       "      <th>PF</th>\n",
       "      <th>PTS</th>\n",
       "    </tr>\n",
       "  </thead>\n",
       "  <tbody>\n",
       "    <tr>\n",
       "      <th>0</th>\n",
       "      <td>1</td>\n",
       "      <td>Álex Abrines</td>\n",
       "      <td>SG</td>\n",
       "      <td>24</td>\n",
       "      <td>OKC</td>\n",
       "      <td>75</td>\n",
       "      <td>8</td>\n",
       "      <td>1134</td>\n",
       "      <td>115</td>\n",
       "      <td>291</td>\n",
       "      <td>...</td>\n",
       "      <td>.848</td>\n",
       "      <td>26</td>\n",
       "      <td>88</td>\n",
       "      <td>114</td>\n",
       "      <td>28</td>\n",
       "      <td>38</td>\n",
       "      <td>8</td>\n",
       "      <td>25</td>\n",
       "      <td>124</td>\n",
       "      <td>353</td>\n",
       "    </tr>\n",
       "    <tr>\n",
       "      <th>1</th>\n",
       "      <td>2</td>\n",
       "      <td>Quincy Acy</td>\n",
       "      <td>PF</td>\n",
       "      <td>27</td>\n",
       "      <td>BRK</td>\n",
       "      <td>70</td>\n",
       "      <td>8</td>\n",
       "      <td>1359</td>\n",
       "      <td>130</td>\n",
       "      <td>365</td>\n",
       "      <td>...</td>\n",
       "      <td>.817</td>\n",
       "      <td>40</td>\n",
       "      <td>217</td>\n",
       "      <td>257</td>\n",
       "      <td>57</td>\n",
       "      <td>33</td>\n",
       "      <td>29</td>\n",
       "      <td>60</td>\n",
       "      <td>149</td>\n",
       "      <td>411</td>\n",
       "    </tr>\n",
       "    <tr>\n",
       "      <th>2</th>\n",
       "      <td>3</td>\n",
       "      <td>Steven Adams</td>\n",
       "      <td>C</td>\n",
       "      <td>24</td>\n",
       "      <td>OKC</td>\n",
       "      <td>76</td>\n",
       "      <td>76</td>\n",
       "      <td>2487</td>\n",
       "      <td>448</td>\n",
       "      <td>712</td>\n",
       "      <td>...</td>\n",
       "      <td>.559</td>\n",
       "      <td>384</td>\n",
       "      <td>301</td>\n",
       "      <td>685</td>\n",
       "      <td>88</td>\n",
       "      <td>92</td>\n",
       "      <td>78</td>\n",
       "      <td>128</td>\n",
       "      <td>215</td>\n",
       "      <td>1056</td>\n",
       "    </tr>\n",
       "    <tr>\n",
       "      <th>3</th>\n",
       "      <td>4</td>\n",
       "      <td>Bam Adebayo</td>\n",
       "      <td>C</td>\n",
       "      <td>20</td>\n",
       "      <td>MIA</td>\n",
       "      <td>69</td>\n",
       "      <td>19</td>\n",
       "      <td>1368</td>\n",
       "      <td>174</td>\n",
       "      <td>340</td>\n",
       "      <td>...</td>\n",
       "      <td>.721</td>\n",
       "      <td>118</td>\n",
       "      <td>263</td>\n",
       "      <td>381</td>\n",
       "      <td>101</td>\n",
       "      <td>32</td>\n",
       "      <td>41</td>\n",
       "      <td>66</td>\n",
       "      <td>138</td>\n",
       "      <td>477</td>\n",
       "    </tr>\n",
       "    <tr>\n",
       "      <th>4</th>\n",
       "      <td>5</td>\n",
       "      <td>Arron Afflalo</td>\n",
       "      <td>SG</td>\n",
       "      <td>32</td>\n",
       "      <td>ORL</td>\n",
       "      <td>53</td>\n",
       "      <td>3</td>\n",
       "      <td>682</td>\n",
       "      <td>65</td>\n",
       "      <td>162</td>\n",
       "      <td>...</td>\n",
       "      <td>.846</td>\n",
       "      <td>4</td>\n",
       "      <td>62</td>\n",
       "      <td>66</td>\n",
       "      <td>30</td>\n",
       "      <td>4</td>\n",
       "      <td>9</td>\n",
       "      <td>21</td>\n",
       "      <td>56</td>\n",
       "      <td>179</td>\n",
       "    </tr>\n",
       "  </tbody>\n",
       "</table>\n",
       "<p>5 rows × 30 columns</p>\n",
       "</div>"
      ],
      "text/plain": [
       "  Rk         Player Pos Age   Tm   G  GS    MP   FG  FGA  ...   FT%  ORB  DRB  \\\n",
       "0  1   Álex Abrines  SG  24  OKC  75   8  1134  115  291  ...  .848   26   88   \n",
       "1  2     Quincy Acy  PF  27  BRK  70   8  1359  130  365  ...  .817   40  217   \n",
       "2  3   Steven Adams   C  24  OKC  76  76  2487  448  712  ...  .559  384  301   \n",
       "3  4    Bam Adebayo   C  20  MIA  69  19  1368  174  340  ...  .721  118  263   \n",
       "4  5  Arron Afflalo  SG  32  ORL  53   3   682   65  162  ...  .846    4   62   \n",
       "\n",
       "   TRB  AST STL BLK  TOV   PF   PTS  \n",
       "0  114   28  38   8   25  124   353  \n",
       "1  257   57  33  29   60  149   411  \n",
       "2  685   88  92  78  128  215  1056  \n",
       "3  381  101  32  41   66  138   477  \n",
       "4   66   30   4   9   21   56   179  \n",
       "\n",
       "[5 rows x 30 columns]"
      ]
     },
     "execution_count": 6,
     "metadata": {},
     "output_type": "execute_result"
    }
   ],
   "source": [
    "df.head(5)"
   ]
  },
  {
   "cell_type": "code",
   "execution_count": null,
   "id": "099674ee",
   "metadata": {},
   "outputs": [],
   "source": []
  }
 ],
 "metadata": {
  "kernelspec": {
   "display_name": "Python 3",
   "language": "python",
   "name": "python3"
  },
  "language_info": {
   "codemirror_mode": {
    "name": "ipython",
    "version": 3
   },
   "file_extension": ".py",
   "mimetype": "text/x-python",
   "name": "python",
   "nbconvert_exporter": "python",
   "pygments_lexer": "ipython3",
   "version": "3.8.10"
  }
 },
 "nbformat": 4,
 "nbformat_minor": 5
}
